{
 "cells": [
  {
   "cell_type": "code",
   "execution_count": null,
   "id": "afb4dd97-fc55-4c35-be1a-ae2fd8a0f57c",
   "metadata": {},
   "outputs": [],
   "source": [
    "!python --version"
   ]
  },
  {
   "cell_type": "code",
   "execution_count": null,
   "id": "1040e193-1791-4ece-b49a-737024e88188",
   "metadata": {},
   "outputs": [],
   "source": [
    "!pip install concrete-ml"
   ]
  },
  {
   "cell_type": "code",
   "execution_count": null,
   "id": "74cf6897-93ce-482b-b628-6b1784d9caf4",
   "metadata": {},
   "outputs": [],
   "source": [
    "!pip install pandas"
   ]
  },
  {
   "cell_type": "code",
   "execution_count": null,
   "id": "9582b1f1-7a63-42c5-9ea9-ad7673a87736",
   "metadata": {},
   "outputs": [],
   "source": [
    "!pip install --upgrade jupyter"
   ]
  },
  {
   "cell_type": "code",
   "execution_count": null,
   "id": "842090fa-07eb-404b-a57f-9f13c82134fd",
   "metadata": {},
   "outputs": [],
   "source": [
    "!pip install --upgrade ipywidgets"
   ]
  },
  {
   "cell_type": "code",
   "execution_count": null,
   "id": "4f4703c0-cbd4-458d-b03a-ce832d909a4c",
   "metadata": {},
   "outputs": [],
   "source": [
    "import numpy as np\n",
    "import pandas as pd\n",
    "import matplotlib.pyplot as plt\n",
    "from sklearn import datasets\n",
    "from sklearn.linear_model import LogisticRegression\n",
    "from sklearn.model_selection import train_test_split\n",
    "from sklearn.preprocessing import StandardScaler\n",
    "from concrete.ml.sklearn import LogisticRegression as ConcreteLogisticRegression\n",
    "\n",
    "# Load dataset\n",
    "data = datasets.load_breast_cancer()\n",
    "bc = pd.DataFrame(data.data, columns=data.feature_names)\n",
    "bc['class'] = data.target"
   ]
  },
  {
   "cell_type": "code",
   "execution_count": null,
   "id": "bb528491-9f36-48cb-81b6-355cb93430a9",
   "metadata": {},
   "outputs": [],
   "source": [
    "# Select a smaller subset of features\n",
    "selected_features_5 = [\n",
    "    'mean compactness',\n",
    "    'mean concave points',\n",
    "    'radius error',\n",
    "    'area error',\n",
    "    'worst texture'\n",
    "]"
   ]
  },
  {
   "cell_type": "code",
   "execution_count": null,
   "id": "84374b20-28d0-42b2-a16f-f965b9c63aa6",
   "metadata": {},
   "outputs": [],
   "source": [
    "# Prepare the data with selected features\n",
    "bc_reduced = bc[selected_features_5]\n",
    "X, y = bc_reduced.to_numpy(), data.target\n",
    "\n",
    "# Split data into training and testing sets\n",
    "X_train, X_test, y_train, y_test = train_test_split(X, y, test_size=0.2, random_state=1234)\n",
    "\n",
    "# Preprocess the data using StandardScaler\n",
    "scaler = StandardScaler()\n",
    "X_train = scaler.fit_transform(X_train)\n",
    "X_test = scaler.transform(X_test)"
   ]
  },
  {
   "cell_type": "code",
   "execution_count": null,
   "id": "e73af95d-950c-44c6-b829-c6c1ac15219f",
   "metadata": {},
   "outputs": [],
   "source": [
    "# Train Sklearn Logistic Regression model\n",
    "logreg = LogisticRegression()\n",
    "logreg.fit(X_train, y_train)\n",
    "\n",
    "# Predict and evaluate\n",
    "y_pred_test = np.asarray(logreg.predict(X_test))\n",
    "sklearn_acc = np.sum(y_pred_test == y_test) / len(y_test) * 100\n",
    "print(f\"Regular Sklearn model accuracy: {sklearn_acc:.4f}%\")"
   ]
  },
  {
   "cell_type": "code",
   "execution_count": null,
   "id": "61d2feeb-faba-48dc-a871-a444757717c5",
   "metadata": {},
   "outputs": [],
   "source": [
    "n_bits_dict = {\n",
    "    \"net_inputs\": 5,\n",
    "    \"op_weights\": 2,\n",
    "    \"net_outputs\": 5,\n",
    "    \"op_inputs\": 5\n",
    "}\n",
    "\n",
    "# Train Concrete Logistic Regression model\n",
    "q_logreg = ConcreteLogisticRegression(n_bits=n_bits_dict)\n",
    "q_logreg.fit(X_train, y_train)"
   ]
  },
  {
   "cell_type": "code",
   "execution_count": null,
   "id": "e3d70f7e-88f6-4ed2-9819-0b888ff231b6",
   "metadata": {},
   "outputs": [],
   "source": [
    "# Compile the model\n",
    "try:\n",
    "    q_logreg.compile(X_train)\n",
    "except RuntimeError as e:\n",
    "    print(\"Compilation error:\", e)"
   ]
  },
  {
   "cell_type": "code",
   "execution_count": null,
   "id": "af82232b-3ab8-474b-888b-cd7133a89e67",
   "metadata": {},
   "outputs": [],
   "source": [
    "# Evaluate quantized model\n",
    "q_y_pred_test = q_logreg.predict(X_test)\n",
    "quantized_accuracy = (q_y_pred_test == y_test).mean() * 100\n",
    "print(f\"Clear quantized model accuracy: {quantized_accuracy:.4f}%\")\n",
    "\n",
    "# Evaluate homomorphic model\n",
    "q_y_pred_fhe = q_logreg.predict(X_test, execute_in_fhe=True)\n",
    "homomorphic_accuracy = (q_y_pred_fhe == y_test).mean() * 100\n",
    "print(f\"Homomorphic model accuracy: {homomorphic_accuracy:.4f}%\")"
   ]
  }
 ],
 "metadata": {
  "kernelspec": {
   "display_name": "Python 3 (ipykernel)",
   "language": "python",
   "name": "python3"
  },
  "language_info": {
   "codemirror_mode": {
    "name": "ipython",
    "version": 3
   },
   "file_extension": ".py",
   "mimetype": "text/x-python",
   "name": "python",
   "nbconvert_exporter": "python",
   "pygments_lexer": "ipython3",
   "version": "3.11.9"
  }
 },
 "nbformat": 4,
 "nbformat_minor": 5
}
